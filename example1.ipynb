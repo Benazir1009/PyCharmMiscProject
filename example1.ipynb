{
 "cells": [
  {
   "cell_type": "code",
   "id": "initial_id",
   "metadata": {
    "collapsed": true
   },
   "source": "import numpy as np",
   "outputs": [],
   "execution_count": null
  },
  {
   "metadata": {},
   "cell_type": "code",
   "source": "import pandas as pd",
   "id": "61bc64dda16655f7",
   "outputs": [],
   "execution_count": null
  },
  {
   "metadata": {},
   "cell_type": "code",
   "source": [
    "d={\"a\":10, \"b\":20, \"c\":30, \"e\":40}\n",
    "print(pd.Series(d))\n",
    "print()\n",
    "print(pd.Series(d, index = [\"a\",\"b\",\"c\",\"d\"]))"
   ],
   "id": "4be381f0f5668c29",
   "outputs": [],
   "execution_count": null
  },
  {
   "metadata": {},
   "cell_type": "code",
   "source": [
    "s= pd.Series(np.arange(5), index = [\"a\",\"b\",\"c\",\"d\",\"e\"])\n",
    "print(\"Choose one\")\n",
    "print(s[\"a\"])\n",
    "print(\"Choos many\")\n",
    "print(s[[\"a\", \"d\"]])\n",
    "print(\"Subset\")\n",
    "print(s[1:])\n",
    "print(\"Addition\")\n",
    "print(s+s)"
   ],
   "id": "868dae23169a1419",
   "outputs": [],
   "execution_count": null
  },
  {
   "metadata": {},
   "cell_type": "code",
   "source": "print(s[s>2])",
   "id": "21ba6c77b24693",
   "outputs": [],
   "execution_count": null
  },
  {
   "metadata": {},
   "cell_type": "code",
   "source": [
    "s=pd.Series(np.arange(5), index = [\"a\",\"b\",\"c\",\"d\",\"e\"])\n",
    "s.name = \"Данные\"\n",
    "s.index.name = \"Индекс\"\n",
    "print(s)"
   ],
   "id": "64f035a6704c7c86",
   "outputs": [],
   "execution_count": null
  },
  {
   "metadata": {},
   "cell_type": "code",
   "source": [
    "students_dict = {\"student\": [\"Student 1\", \"Student 2\", \"Student 3\"], \"math\": [5,3,4], \"physics\":[4,5,5]}\n",
    "students =pd.DataFrame(students_dict)\n",
    "print(students)"
   ],
   "id": "888e8b5dad31811e",
   "outputs": [],
   "execution_count": null
  },
  {
   "metadata": {},
   "cell_type": "code",
   "source": [
    "print(students.index)\n",
    "print(students.columns)"
   ],
   "id": "9a92ac358a284dd",
   "outputs": [],
   "execution_count": null
  },
  {
   "metadata": {},
   "cell_type": "code",
   "source": [
    "students.index = [\"A\",\"B\",\"C\"]\n",
    "print(students)"
   ],
   "id": "eb750af269fc3680",
   "outputs": [],
   "execution_count": null
  },
  {
   "metadata": {},
   "cell_type": "code",
   "source": "print(students.loc[\"B\":])",
   "id": "a28d300a9edb7489",
   "outputs": [],
   "execution_count": null
  },
  {
   "metadata": {},
   "cell_type": "code",
   "source": "print(type(students[\"student\"]))",
   "id": "19d60d20d44f8413",
   "outputs": [],
   "execution_count": null
  },
  {
   "metadata": {},
   "cell_type": "code",
   "source": "students=pd.read_csv(\"Students_Performance_132b1e1ff9.csv\")",
   "id": "1e5a736df29aed7f",
   "outputs": [],
   "execution_count": null
  },
  {
   "metadata": {},
   "cell_type": "code",
   "source": "students",
   "id": "28b5970c0af2e46a",
   "outputs": [],
   "execution_count": null
  },
  {
   "metadata": {},
   "cell_type": "code",
   "source": "students.head()",
   "id": "5eed85688f1827c4",
   "outputs": [],
   "execution_count": null
  },
  {
   "metadata": {},
   "cell_type": "code",
   "source": "print(students.tail(3))",
   "id": "5c7241bf72353121",
   "outputs": [],
   "execution_count": null
  },
  {
   "metadata": {},
   "cell_type": "code",
   "source": "print(students[10:13])",
   "id": "d7c31bd023c4fcb2",
   "outputs": [],
   "execution_count": null
  },
  {
   "metadata": {},
   "cell_type": "code",
   "source": "students[students[\"test preparation course\"] == \"completed\"][\"math score\"].head()",
   "id": "2c9d281455af9225",
   "outputs": [],
   "execution_count": null
  },
  {
   "metadata": {},
   "cell_type": "code",
   "source": [
    "with_course = students[students[\"test preparation course\"]==\"completed\"]\n",
    "with_course"
   ],
   "id": "e78643d644754900",
   "outputs": [],
   "execution_count": null
  },
  {
   "metadata": {},
   "cell_type": "code",
   "source": "with_course[[\"math score\", \"reading score\", \"writing score\"]].sort_values([\"math score\", \"reading score\", \"writing score\"], ascending=False)",
   "id": "d8a00582b58c7cbc",
   "outputs": [],
   "execution_count": null
  },
  {
   "metadata": {},
   "cell_type": "code",
   "source": [
    "students[\"total score\"]=students[\"math score\"]+students[\"reading score\"]+students[\"writing score\"]\n",
    "students.sort_values(\"total score\", ascending=False).head(15)"
   ],
   "id": "2999ac5f325db91c",
   "outputs": [],
   "execution_count": null
  },
  {
   "metadata": {},
   "cell_type": "code",
   "source": "students.groupby([\"gender\", \"test preparation course\"])[\"writing score\"].count()",
   "id": "9f2e1cdf4643264c",
   "outputs": [],
   "execution_count": null
  },
  {
   "metadata": {},
   "cell_type": "code",
   "source": [
    "agg_functions ={\"math score\": [\"mean\", \"median\"]}\n",
    "(students.groupby([\"gender\", \"test preparation course\"]).agg\n",
    " (agg_functions))"
   ],
   "id": "78ba592ba61033e7",
   "outputs": [],
   "execution_count": null
  },
  {
   "metadata": {},
   "cell_type": "code",
   "source": "import matplotlib.pyplot as plt",
   "id": "a7cf9e65cff2f119",
   "outputs": [],
   "execution_count": null
  },
  {
   "metadata": {},
   "cell_type": "code",
   "source": [
    "plt.hist(students[\"math score\"], label=\"Тест по математике \")\n",
    "plt.xlabel(\"Баллы за тест\")\n",
    "plt.ylabel(\"Количество студентов\")\n",
    "plt.legend()\n",
    "plt.show()"
   ],
   "id": "a30a3cb1bec32e32",
   "outputs": [],
   "execution_count": null
  },
  {
   "metadata": {},
   "cell_type": "code",
   "source": "import pandas as pd\n",
   "id": "4ac1f43e56d004",
   "outputs": [],
   "execution_count": null
  },
  {
   "metadata": {},
   "cell_type": "code",
   "source": [
    "df = pd.read_csv(\"Titanic-Dataset.csv\")\n",
    "print(df)"
   ],
   "id": "b705878270c7753d",
   "outputs": [],
   "execution_count": null
  },
  {
   "metadata": {},
   "cell_type": "code",
   "source": "df.describe()",
   "id": "3fd4fe5cb468843a",
   "outputs": [],
   "execution_count": null
  },
  {
   "metadata": {},
   "cell_type": "code",
   "source": "df.shape",
   "id": "316777b755620bdb",
   "outputs": [],
   "execution_count": null
  },
  {
   "metadata": {},
   "cell_type": "code",
   "source": "df['Pclass'].unique()",
   "id": "1b1568e6dfa6e291",
   "outputs": [],
   "execution_count": null
  },
  {
   "metadata": {},
   "cell_type": "code",
   "source": "df['Pclass'].value_counts(normalize=True)",
   "id": "d4184087a426333",
   "outputs": [],
   "execution_count": null
  },
  {
   "metadata": {},
   "cell_type": "code",
   "source": "df[(df['Pclass']==3) & (df['Sex']=='female')]",
   "id": "ff8aa8371c90f538",
   "outputs": [],
   "execution_count": null
  },
  {
   "metadata": {},
   "cell_type": "code",
   "source": "df['Fare'].mean()",
   "id": "ac4626ef2cab0d39",
   "outputs": [],
   "execution_count": null
  },
  {
   "metadata": {},
   "cell_type": "code",
   "source": [
    "print(df['Fare'].min())\n",
    "print(df['Fare'].max())"
   ],
   "id": "33119af8954948ea",
   "outputs": [],
   "execution_count": null
  },
  {
   "metadata": {},
   "cell_type": "code",
   "source": "df[df['Fare']==df['Fare'].min()]",
   "id": "cfacefdea95b73cc",
   "outputs": [],
   "execution_count": null
  },
  {
   "metadata": {},
   "cell_type": "code",
   "source": "correct_df = df[df['Fare']>0]",
   "id": "9749bb033d280a71",
   "outputs": [],
   "execution_count": null
  },
  {
   "metadata": {},
   "cell_type": "code",
   "source": "correct_df.shape",
   "id": "e9cae4e5b6fb1c8a",
   "outputs": [],
   "execution_count": null
  },
  {
   "metadata": {},
   "cell_type": "code",
   "source": "correct_df[(correct_df['Fare']>4) & (correct_df['Fare']<5)]",
   "id": "b93ccd44cd5fd39d",
   "outputs": [],
   "execution_count": null
  },
  {
   "metadata": {},
   "cell_type": "code",
   "source": "from scipy.stats import binomtest",
   "id": "fc5d34331cd6b596",
   "outputs": [],
   "execution_count": null
  },
  {
   "metadata": {},
   "cell_type": "code",
   "source": "df = pd.read_csv(\"bestsellers with categories.csv\")",
   "id": "867eda52f1c75db2",
   "outputs": [],
   "execution_count": null
  },
  {
   "metadata": {},
   "cell_type": "code",
   "source": "df.info()",
   "id": "87ab8b06c72a44e1",
   "outputs": [],
   "execution_count": null
  },
  {
   "metadata": {},
   "cell_type": "code",
   "source": "df['Genre'].unique()",
   "id": "931eb6cf98073160",
   "outputs": [],
   "execution_count": null
  },
  {
   "metadata": {},
   "cell_type": "code",
   "source": [
    "genre_counts = df['Genre'].value_counts().tolist()\n",
    "print(\"Распределение жанров:\", genre_counts)"
   ],
   "id": "382367b23003e6b0",
   "outputs": [],
   "execution_count": null
  },
  {
   "metadata": {},
   "cell_type": "code",
   "source": "print(bins)",
   "id": "fd45dcf3027f7efb",
   "outputs": [],
   "execution_count": null
  },
  {
   "metadata": {},
   "cell_type": "code",
   "source": "binomtest(310,550,0.5)",
   "id": "c552fabe6ff86e8c",
   "outputs": [],
   "execution_count": null
  },
  {
   "metadata": {},
   "cell_type": "code",
   "source": "",
   "id": "c6d15f9db97c9d5b",
   "outputs": [],
   "execution_count": null
  },
  {
   "metadata": {},
   "cell_type": "code",
   "source": [
    "means_fic = []\n",
    "n = 1\n",
    "\n",
    "\n",
    "while n < 510:\n",
    "    n += 1\n",
    "    sample = df[df['Genre'] == 'Non Fiction'].sample(100)['User Rating'].mean()\n",
    "    means_fic.append(sample)"
   ],
   "id": "b91c93d3f20f1dea",
   "outputs": [],
   "execution_count": null
  },
  {
   "metadata": {},
   "cell_type": "code",
   "source": [
    "from scipy.stats import shapiro\n",
    "from scipy.stats import levene"
   ],
   "id": "5f8cfed811edebe7",
   "outputs": [],
   "execution_count": null
  },
  {
   "metadata": {},
   "cell_type": "code",
   "source": "shapiro(means_fic)",
   "id": "88b1b5a53c9821a0",
   "outputs": [],
   "execution_count": null
  },
  {
   "metadata": {},
   "cell_type": "code",
   "source": [
    "means_fic = []\n",
    "n = 1\n",
    "while n < 510:\n",
    "    n += 1\n",
    "    sample = df[df['Genre'] == 'Fiction'].sample(100)['User Rating'].mean()\n",
    "    means_fic.append(sample)"
   ],
   "id": "43a2b5dfe479f051",
   "outputs": [],
   "execution_count": null
  },
  {
   "metadata": {},
   "cell_type": "code",
   "source": "shapiro(means_fic)",
   "id": "7e87098fd9f5d55a",
   "outputs": [],
   "execution_count": null
  },
  {
   "metadata": {},
   "cell_type": "code",
   "source": [
    "user_rating_fic = df[df['Genre'] == 'Non Fiction'].sample(100)['User Rating']\n",
    "user_rating_non = df[df['Genre']=='Non Fiction'].sample(100)['User Rating']"
   ],
   "id": "eb940b4f9dbad66a",
   "outputs": [],
   "execution_count": null
  },
  {
   "metadata": {},
   "cell_type": "code",
   "source": "user_rating_fic.head(5)",
   "id": "12f700abf2f6fb17",
   "outputs": [],
   "execution_count": null
  },
  {
   "metadata": {},
   "cell_type": "code",
   "source": "levene(user_rating_fic, user_rating_non)",
   "id": "ee6ff49fae4b38cd",
   "outputs": [],
   "execution_count": null
  },
  {
   "metadata": {},
   "cell_type": "code",
   "source": "from scipy.stats import ttest_ind",
   "id": "9f093094dd4980eb",
   "outputs": [],
   "execution_count": null
  },
  {
   "metadata": {},
   "cell_type": "code",
   "source": "ttest_ind(user_rating_fic, user_rating_non, equal_var = False)",
   "id": "ad1f9ffd641808f2",
   "outputs": [],
   "execution_count": null
  },
  {
   "metadata": {},
   "cell_type": "code",
   "source": [
    "print(user_rating_fic.mean())\n",
    "print(user_rating_non.mean())"
   ],
   "id": "c8b09790b610af05",
   "outputs": [],
   "execution_count": null
  },
  {
   "metadata": {},
   "cell_type": "code",
   "source": "from scipy.stats import f_oneway",
   "id": "eee7327113bf9166",
   "outputs": [],
   "execution_count": null
  },
  {
   "metadata": {},
   "cell_type": "code",
   "source": [
    "ur_2019 = df[(df['Year'] == 2019)]['User Rating']\n",
    "ur_2018 = df[(df['Year'] == 2018)]['User Rating']\n",
    "ur_2017 = df[(df['Year'] == 2017)]['User Rating']"
   ],
   "id": "83db029b68310591",
   "outputs": [],
   "execution_count": null
  },
  {
   "metadata": {},
   "cell_type": "code",
   "source": [
    "means_2019 = []\n",
    "n = 1\n",
    "while n < 510:\n",
    "    n += 1\n",
    "    sample = df[df['Year'] == 2019].sample(50)['User Rating'].mean()\n",
    "    means_2019.append(sample)"
   ],
   "id": "8f55e0c04fecd3fd",
   "outputs": [],
   "execution_count": null
  },
  {
   "metadata": {},
   "cell_type": "code",
   "source": "shapiro(means_2019)",
   "id": "4966b109fc9744d9",
   "outputs": [],
   "execution_count": null
  },
  {
   "metadata": {},
   "cell_type": "code",
   "source": [
    "means_2018 = []\n",
    "n = 1\n",
    "while n < 510:\n",
    "    n += 1\n",
    "    sample = df[df['Year'] == 2018].sample(50)['User Rating'].mean()\n",
    "    means_2018.append(sample)"
   ],
   "id": "f189c19640b7504a",
   "outputs": [],
   "execution_count": null
  },
  {
   "metadata": {},
   "cell_type": "code",
   "source": "shapiro(means_2018)",
   "id": "a42555f5a41b7b8e",
   "outputs": [],
   "execution_count": null
  },
  {
   "metadata": {},
   "cell_type": "code",
   "source": [
    "means_2017 = []\n",
    "n = 1\n",
    "while n < 510:\n",
    "    n += 1\n",
    "    sample = df[df['Year'] == 2017].sample(50)['User Rating'].mean()\n",
    "    means_2017.append(sample)"
   ],
   "id": "50cc9947adc1823",
   "outputs": [],
   "execution_count": null
  },
  {
   "metadata": {},
   "cell_type": "code",
   "source": "shapiro(means_2017)",
   "id": "cf19e420ac8fb6d9",
   "outputs": [],
   "execution_count": null
  },
  {
   "metadata": {},
   "cell_type": "code",
   "source": [
    "user_rating_2019 = df[df['Year'] == 2019].sample(50)['User Rating']\n",
    "user_rating_2018 = df[df['Year']==2018].sample(50)['User Rating']\n",
    "user_rating_2017 = df[df['Year'] == 2017].sample(50)['User Rating']"
   ],
   "id": "c57bea72889328a",
   "outputs": [],
   "execution_count": null
  },
  {
   "metadata": {},
   "cell_type": "code",
   "source": "levene(user_rating_2019, user_rating_2018, user_rating_2017)",
   "id": "753503161ebfd437",
   "outputs": [],
   "execution_count": null
  },
  {
   "metadata": {},
   "cell_type": "code",
   "source": "from scipy.stats import f_oneway",
   "id": "35889e5e4d8c51f0",
   "outputs": [],
   "execution_count": null
  },
  {
   "metadata": {},
   "cell_type": "code",
   "source": "f_oneway(user_rating_2019, user_rating_2018, user_rating_2017)",
   "id": "fbb74ff43e7df724",
   "outputs": [],
   "execution_count": null
  },
  {
   "metadata": {},
   "cell_type": "code",
   "source": [
    "print(user_rating_2019.mean())\n",
    "print(user_rating_2018.mean())\n",
    "print(user_rating_2017.mean())"
   ],
   "id": "ebf7ea40f2a867e2",
   "outputs": [],
   "execution_count": null
  },
  {
   "metadata": {},
   "cell_type": "code",
   "source": "# 15 mayo de 2025",
   "id": "3a7ce5adfade2cdb",
   "outputs": [],
   "execution_count": null
  },
  {
   "metadata": {},
   "cell_type": "code",
   "source": "from scipy.stats import chisquare",
   "id": "449d9e6a75f4412",
   "outputs": [],
   "execution_count": null
  },
  {
   "metadata": {},
   "cell_type": "code",
   "source": "chisquare([20,30,50,25], f_exp=[28,22,42,33])",
   "id": "6dd855c88bf1dcce",
   "outputs": [],
   "execution_count": null
  },
  {
   "metadata": {},
   "cell_type": "code",
   "source": "df[(df['Pclass']==1) & (df['Survived']==0)]",
   "id": "de6f333cc4106148",
   "outputs": [],
   "execution_count": null
  },
  {
   "metadata": {},
   "cell_type": "code",
   "source": [
    "from scipy.stats import chisquare\n",
    "chisquare([136,80,87,97,119,372], f_exp=[83,133,71, 113, 188,303])   #нулевая гипотеза об отсутствии связи отбразывается"
   ],
   "id": "a75141c5f0494633",
   "outputs": [],
   "execution_count": null
  },
  {
   "metadata": {},
   "cell_type": "code",
   "source": "df.groupby(['Pclass', 'Survived']).size().unstack()",
   "id": "28e19d4bdfd97c3a",
   "outputs": [],
   "execution_count": null
  },
  {
   "metadata": {},
   "cell_type": "code",
   "source": [
    "import pandas as pd\n",
    "import plotly.express as px\n",
    "from plotly.offline import init_notebook_mode\n",
    "init_notebook_mode()"
   ],
   "id": "2aed12eab2543d4d",
   "outputs": [],
   "execution_count": null
  },
  {
   "metadata": {},
   "cell_type": "code",
   "source": [
    "heart= pd.read_csv(\"heart.csv\")\n",
    "covid = pd.read_csv(\"covid_19_data.csv\")\n",
    "co2 = pd.read_csv(\"co2_emission.csv\")\n",
    "house = pd.read_csv(\"train.csv\")"
   ],
   "id": "cc3678e452174f27",
   "outputs": [],
   "execution_count": null
  },
  {
   "metadata": {},
   "cell_type": "code",
   "source": "heart.head()",
   "id": "acef8afe56d04079",
   "outputs": [],
   "execution_count": null
  },
  {
   "metadata": {},
   "cell_type": "code",
   "source": "fig = px.scatter(heart, x='trestbps', y='chol', color ='target', title='Холистерин и давление', template='ggplot2')",
   "id": "610dfb1329538837",
   "outputs": [],
   "execution_count": null
  },
  {
   "metadata": {},
   "cell_type": "code",
   "source": "fig.show()",
   "id": "234d3349c45d9103",
   "outputs": [],
   "execution_count": null
  },
  {
   "metadata": {},
   "cell_type": "code",
   "source": [
    "fig = px.scatter(heart, x='trestbps', y='chol', title ='Chol and trestbps', facet_col='sex', color ='target', template ='ggplot2')\n",
    "fig.show()"
   ],
   "id": "a29f07f9566726e2",
   "outputs": [],
   "execution_count": null
  },
  {
   "metadata": {},
   "cell_type": "code",
   "source": "fig = px.line(co2[co2['Entity']=='Tajikistan'], x='Year', y=r'Annual CO₂ emissions (tonnes )', title='CO2 emission in Tajikistan')",
   "id": "42c6bd3a5e0d98a6",
   "outputs": [],
   "execution_count": null
  },
  {
   "metadata": {},
   "cell_type": "code",
   "source": "fig.show()",
   "id": "a8ee11a9cd503a51",
   "outputs": [],
   "execution_count": null
  },
  {
   "metadata": {},
   "cell_type": "code",
   "source": "covidCases = pd.DataFrame(covid.groupby('Country/Region')['Confirmed'].sum()).reset_index()",
   "id": "6be3b3a461ab997",
   "outputs": [],
   "execution_count": null
  },
  {
   "metadata": {},
   "cell_type": "code",
   "source": "covidCases=covidCases.sort_values(by ='Confirmed', ascending=False)",
   "id": "92ee528c25d94caa",
   "outputs": [],
   "execution_count": null
  },
  {
   "metadata": {},
   "cell_type": "code",
   "source": "fig=px.bar(covidCases.iloc[:50], x='Country/Region', y='Confirmed', title ='Top 50 covid country')",
   "id": "3c9d862e06e9f1d5",
   "outputs": [],
   "execution_count": null
  },
  {
   "metadata": {},
   "cell_type": "code",
   "source": "fig.show()",
   "id": "e11f3b23845d189c",
   "outputs": [],
   "execution_count": null
  },
  {
   "metadata": {},
   "cell_type": "code",
   "source": [
    "fig = px.pie(heart, names='slope', color_discrete_sequence = px.colors.sequential.Plasma, title='Pie chart exmple', hole = 0.3)\n",
    "fig.show()"
   ],
   "id": "7cab092b77aba117",
   "outputs": [],
   "execution_count": null
  }
 ],
 "metadata": {
  "kernelspec": {
   "display_name": "Python 3",
   "language": "python",
   "name": "python3"
  },
  "language_info": {
   "codemirror_mode": {
    "name": "ipython",
    "version": 2
   },
   "file_extension": ".py",
   "mimetype": "text/x-python",
   "name": "python",
   "nbconvert_exporter": "python",
   "pygments_lexer": "ipython2",
   "version": "2.7.6"
  }
 },
 "nbformat": 4,
 "nbformat_minor": 5
}
